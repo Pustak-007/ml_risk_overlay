{
 "cells": [
  {
   "cell_type": "markdown",
   "id": "272e25e6",
   "metadata": {},
   "source": [
    "# Notebook 1: Data Acquisition and Exploratory Data Analysis\n",
    "\n",
    "**Objective:** To connect to the WRDS and FRED databases, download all necessary raw time series data, perform initial validation and sanity checks, and save the raw data to the `/data/raw/` directory for future use."
   ]
  },
  {
   "cell_type": "code",
   "execution_count": null,
   "id": "f0362861",
   "metadata": {},
   "outputs": [
    {
     "name": "stdout",
     "output_type": "stream",
     "text": [
      "/Users/pustak\n"
     ]
    }
   ],
   "source": [
    "import os\n",
    "project_folder_path = '/Users/pustak/Desktop/ml_risk_overlay'\n",
    "os.chdir(project_folder_path)\n",
    "folder_path = 'data/raw'\n",
    "if not os.path.exists(folder_path):\n",
    "    os.makedirs(folder_path)\n",
    "file_name = \"sample_vix.txt\"\n",
    "file_path = os.path.join(folder_path, file_name)\n",
    "\n",
    "data = \"Hello, this is some text to save!\"\n",
    "with open(file_path, \"w\") as f:\n",
    "    f.write(data)\n",
    "print(f\"Data saved to {file_path}\")"
   ]
  }
 ],
 "metadata": {
  "kernelspec": {
   "display_name": "Python 3",
   "language": "python",
   "name": "python3"
  },
  "language_info": {
   "codemirror_mode": {
    "name": "ipython",
    "version": 3
   },
   "file_extension": ".py",
   "mimetype": "text/x-python",
   "name": "python",
   "nbconvert_exporter": "python",
   "pygments_lexer": "ipython3",
   "version": "3.12.5"
  }
 },
 "nbformat": 4,
 "nbformat_minor": 5
}
